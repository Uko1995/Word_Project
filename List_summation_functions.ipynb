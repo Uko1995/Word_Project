{
 "cells": [
  {
   "cell_type": "code",
   "execution_count": 1,
   "id": "3dc0fe4c-a578-4d33-8b77-2f184b1d579f",
   "metadata": {},
   "outputs": [],
   "source": [
    "def sum_of_list(numbers):\n",
    "    # adds the elements in the list using the sum function\n",
    "    sums = sum(numbers)\n",
    "    # variable named 'summation' prints the result\n",
    "    summation = print(f'The sum of (numbers) is: {sums}')\n",
    "    # returns the summation\n",
    "    return summation\n",
    "    \n",
    "    "
   ]
  },
  {
   "cell_type": "code",
   "execution_count": 3,
   "id": "6bbfeaa2-9a35-46ba-93a1-7de1b3f625d1",
   "metadata": {},
   "outputs": [
    {
     "name": "stdout",
     "output_type": "stream",
     "text": [
      "The sum of (numbers) is: 15\n"
     ]
    }
   ],
   "source": [
    "numbers = [1,2,3,4,5]\n",
    "sum_of_list(numbers)"
   ]
  },
  {
   "cell_type": "code",
   "execution_count": 12,
   "id": "df3e4353-d64c-446b-a272-cb1286791ffc",
   "metadata": {},
   "outputs": [],
   "source": [
    "def two_levels_sum(number_list):\n",
    "    # Import flatten from nltk module\n",
    "    from nltk import flatten\n",
    "    a_list =[[5, 8], [1, 4, 7], [10], 3]\n",
    "    # flatten(reduce the nested list to a single list) the nested list\n",
    "    single_list = flatten(a_list)\n",
    "    # now do the summation of the single list\n",
    "    Sum = sum(single_list)\n",
    "    # return the summation\n",
    "    return Sum"
   ]
  },
  {
   "cell_type": "code",
   "execution_count": 13,
   "id": "ccd42e93-c866-4e8f-92e4-25990581c51c",
   "metadata": {},
   "outputs": [
    {
     "data": {
      "text/plain": [
       "38"
      ]
     },
     "execution_count": 13,
     "metadata": {},
     "output_type": "execute_result"
    }
   ],
   "source": [
    "two_levels_sum(a_list)"
   ]
  }
 ],
 "metadata": {
  "kernelspec": {
   "display_name": "Python 3",
   "language": "python",
   "name": "python3"
  },
  "language_info": {
   "codemirror_mode": {
    "name": "ipython",
    "version": 3
   },
   "file_extension": ".py",
   "mimetype": "text/x-python",
   "name": "python",
   "nbconvert_exporter": "python",
   "pygments_lexer": "ipython3",
   "version": "3.8.8"
  }
 },
 "nbformat": 4,
 "nbformat_minor": 5
}
