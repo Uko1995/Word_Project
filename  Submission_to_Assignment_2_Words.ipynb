{
 "cells": [
  {
   "cell_type": "markdown",
   "metadata": {},
   "source": [
    "# Assignment 2 - Words"
   ]
  },
  {
   "cell_type": "markdown",
   "metadata": {},
   "source": [
    "In this assignment **you** will search for words based on predefined criteria.\n",
    "\n",
    "For instance, which words does not include any vowels or the letters of which words are in alphabetical order...\n",
    "\n",
    "The words are from **Lorem Ipsum**.\n",
    "\n",
    "Lorem Ipsum is simply dummy text of the printing and typesetting industry. \n",
    "\n",
    "https://www.lipsum.com/"
   ]
  },
  {
   "cell_type": "markdown",
   "metadata": {},
   "source": [
    "Complete the code with respect to **#TODO** statements."
   ]
  },
  {
   "cell_type": "markdown",
   "metadata": {},
   "source": [
    "**Preparation:**\n",
    "\n",
    "To read the words:\n",
    "\n",
    "* open() function\n",
    "    * open(file, mode)\n",
    "    * mode:\n",
    "        * r: read (default)\n",
    "        * a: append\n",
    "        * w: write\n",
    "        * x: create"
   ]
  },
  {
   "cell_type": "code",
   "execution_count": 2,
   "metadata": {},
   "outputs": [],
   "source": [
    "# open()\n",
    "\n",
    "file = open('words.txt')"
   ]
  },
  {
   "cell_type": "code",
   "execution_count": 3,
   "metadata": {},
   "outputs": [
    {
     "data": {
      "text/plain": [
       "'Lorem\\n'"
      ]
     },
     "execution_count": 3,
     "metadata": {},
     "output_type": "execute_result"
    }
   ],
   "source": [
    "# let's read the line\n",
    "\n",
    "file.readline()"
   ]
  },
  {
   "cell_type": "code",
   "execution_count": 3,
   "metadata": {},
   "outputs": [
    {
     "data": {
      "text/plain": [
       "'ipsum\\n'"
      ]
     },
     "execution_count": 3,
     "metadata": {},
     "output_type": "execute_result"
    }
   ],
   "source": [
    "# let's read the second line\n",
    "\n",
    "file.readline()"
   ]
  },
  {
   "cell_type": "markdown",
   "metadata": {},
   "source": [
    "**Special Chars:**\n",
    "* \\n : new line character\n",
    "* \\r : carriage return (enter)"
   ]
  },
  {
   "cell_type": "code",
   "execution_count": 4,
   "metadata": {},
   "outputs": [
    {
     "data": {
      "text/plain": [
       "'dolor\\n'"
      ]
     },
     "execution_count": 4,
     "metadata": {},
     "output_type": "execute_result"
    }
   ],
   "source": [
    "# run readline\n",
    "\n",
    "line = file.readline()\n",
    "line"
   ]
  },
  {
   "cell_type": "code",
   "execution_count": 4,
   "metadata": {
    "tags": []
   },
   "outputs": [
    {
     "name": "stdout",
     "output_type": "stream",
     "text": [
      "Lorem\n",
      "\n",
      "ipsum\n",
      "\n",
      "dolor\n",
      "\n",
      "sit\n",
      "\n",
      "amet\n",
      "\n",
      "consectetur\n",
      "\n",
      "adipiscing\n",
      "\n",
      "elit\n",
      "\n",
      "Nulla\n",
      "\n",
      "sodales\n",
      "\n",
      "orci\n",
      "\n",
      "sed\n",
      "\n",
      "nisl\n",
      "\n",
      "tempor\n",
      "\n",
      "tristique\n",
      "\n",
      "Donec\n",
      "\n",
      "commodo\n",
      "\n",
      "non\n",
      "\n",
      "leo\n",
      "\n",
      "quis\n",
      "\n",
      "fermentum\n",
      "\n"
     ]
    }
   ],
   "source": [
    "# print the first 20 lines\n",
    "\n",
    "file = open('words.txt')\n",
    "\n",
    "# we need index -> enumerate\n",
    "\n",
    "for index, line in enumerate(file):\n",
    "    \n",
    "    if index <= 20:\n",
    "        print(line)\n",
    "    "
   ]
  },
  {
   "cell_type": "code",
   "execution_count": 8,
   "metadata": {},
   "outputs": [
    {
     "name": "stdout",
     "output_type": "stream",
     "text": [
      "['Lorem']\n",
      "['ipsum']\n",
      "['dolor']\n",
      "['sit']\n",
      "['amet']\n",
      "['consectetur']\n",
      "['adipiscing']\n",
      "['elit']\n",
      "['Nulla']\n",
      "['sodales']\n",
      "['orci']\n",
      "['sed']\n",
      "['nisl']\n",
      "['tempor']\n",
      "['tristique']\n",
      "['Donec']\n",
      "['commodo']\n",
      "['non']\n",
      "['leo']\n",
      "['quis']\n",
      "['fermentum']\n"
     ]
    }
   ],
   "source": [
    "# remove new line\n",
    "\n",
    "file = open('words.txt')\n",
    "\n",
    "for index, line in enumerate(file):\n",
    "    \n",
    "    if index <= 20:\n",
    "        \n",
    "        # split() -> splits the text from space chars (space, \\n new line, carriage return)\n",
    "        word_list = line.split()\n",
    "        print(word_list)\n"
   ]
  },
  {
   "cell_type": "markdown",
   "metadata": {},
   "source": [
    "**Exercise 1:**\n",
    "\n",
    "We will print the words which have number of letters more than 10."
   ]
  },
  {
   "cell_type": "code",
   "execution_count": 12,
   "metadata": {},
   "outputs": [
    {
     "name": "stdout",
     "output_type": "stream",
     "text": [
      "consectetur\n",
      "pellentesque\n",
      "sollicitudin\n",
      "scelerisque\n",
      "ullamcorper\n",
      "condimentum\n",
      "Suspendisse\n"
     ]
    }
   ],
   "source": [
    "# read the file\n",
    "file = open('words.txt')\n",
    "# TODO - Read the words into a file\n",
    "line = file.readline()\n",
    "for line in file:\n",
    "    \n",
    "    # split() -> \\n\n",
    "    word_list = line.split()\n",
    "    \n",
    "    # word is the first element in list\n",
    "    word = word_list[0]\n",
    "    \n",
    "    # check number of letters\n",
    "    if len(word) >10:\n",
    "        print(word)\n",
    "    "
   ]
  },
  {
   "cell_type": "markdown",
   "metadata": {},
   "source": [
    "**Exercise 2:**\n",
    "\n",
    "Define a new function.\n",
    "\n",
    "This function will search for the words which have no vowels in it. (a, e, i, o, u)"
   ]
  },
  {
   "cell_type": "code",
   "execution_count": 10,
   "metadata": {},
   "outputs": [],
   "source": [
    "\n",
    "def check_for_vowels():\n",
    "    \n",
    "    # read the file\n",
    "    file = open('words.txt')\n",
    "    # TODO - Read the words into a file\n",
    "    \n",
    "    for line in file:\n",
    "        \n",
    "        # split() -> \\n\n",
    "        word_list = line.split()\n",
    "        \n",
    "\n",
    "        # word is the first element in list\n",
    "        word = word_list[0]\n",
    "         \n",
    "       \n",
    "        \n",
    "        # check if included vowel\n",
    "        if not 'a' in word and \\\n",
    "           not 'e' in word and \\\n",
    "           not 'i' in word and \\\n",
    "           not 'o' in word and \\\n",
    "           not 'u' in word:\n",
    "            print(word)\n"
   ]
  },
  {
   "cell_type": "code",
   "execution_count": 11,
   "metadata": {},
   "outputs": [
    {
     "name": "stdout",
     "output_type": "stream",
     "text": [
      "In\n",
      "trylyk\n",
      "Antryl\n"
     ]
    }
   ],
   "source": [
    "check_for_vowels()"
   ]
  },
  {
   "cell_type": "code",
   "execution_count": 14,
   "metadata": {},
   "outputs": [],
   "source": [
    "def check_for_vowels():\n",
    "    \n",
    "    # read the file\n",
    "    file = open('words.txt')\n",
    "    \n",
    "    for line in file:\n",
    "        \n",
    "        # split() -> \\n\n",
    "        word_list = line.split()\n",
    "\n",
    "        # word is the first element in list\n",
    "        word = word_list[0]\n",
    "        \n",
    "        # convert into lower case\n",
    "        word = word.lower() \n",
    "        \n",
    "        # check if included vowel\n",
    "        if not 'a' in word and \\\n",
    "           not 'e' in word and \\\n",
    "           not 'i' in word and \\\n",
    "           not 'o' in word and \\\n",
    "           not 'u' in word:\n",
    "            print(word)\n",
    "            "
   ]
  },
  {
   "cell_type": "code",
   "execution_count": 15,
   "metadata": {},
   "outputs": [
    {
     "name": "stdout",
     "output_type": "stream",
     "text": [
      "trylyk\n"
     ]
    }
   ],
   "source": [
    "check_for_vowels()"
   ]
  },
  {
   "cell_type": "markdown",
   "metadata": {},
   "source": [
    "Check for words which includes 'ae' together and in this order. "
   ]
  },
  {
   "cell_type": "code",
   "execution_count": 24,
   "metadata": {},
   "outputs": [],
   "source": [
    "def check_for_ae():\n",
    "    \n",
    "    # read the file\n",
    "    file = ('words.txt')\n",
    "    \n",
    "    for line in file:\n",
    "        \n",
    "        # split() -> \\n\n",
    "        word_list = line.split()\n",
    "\n",
    "        # word is the first element in list\n",
    "        word = word_list[0]\n",
    "        \n",
    "        # convert into lower case\n",
    "        word = word.lower()\n",
    "        \n",
    "        # check if included vowel\n",
    "        if 'ae' in word:\n",
    "            print(word)\n"
   ]
  },
  {
   "cell_type": "code",
   "execution_count": 25,
   "metadata": {},
   "outputs": [],
   "source": [
    "check_for_ae() "
   ]
  },
  {
   "cell_type": "markdown",
   "metadata": {},
   "source": [
    "**Exercise 3:**\n",
    "\n",
    "We will define a function **is_any_forbidden_letter**.\n",
    "\n",
    "It will take letters which are forbidden and a text.\n",
    "\n",
    "It will check if this text included any of these forbidden letters.\n",
    "\n",
    "bool function -> True, False"
   ]
  },
  {
   "cell_type": "code",
   "execution_count": 31,
   "metadata": {},
   "outputs": [],
   "source": [
    "def is_any_forbidden_letter(text, forbidden_letters):\n",
    "    \n",
    "    for letter in text:\n",
    "        if letter in forbidden_letters:\n",
    "            return True\n",
    "    else:\n",
    "        return False\n",
    "    "
   ]
  },
  {
   "cell_type": "code",
   "execution_count": 32,
   "metadata": {},
   "outputs": [
    {
     "data": {
      "text/plain": [
       "True"
      ]
     },
     "execution_count": 32,
     "metadata": {},
     "output_type": "execute_result"
    }
   ],
   "source": [
    "sentence = 'This is a forbidden sentence.'\n",
    "forbidden_letters = 'ae'\n",
    "\n",
    "is_any_forbidden_letter(sentence, forbidden_letters)"
   ]
  },
  {
   "cell_type": "code",
   "execution_count": 33,
   "metadata": {},
   "outputs": [
    {
     "data": {
      "text/plain": [
       "False"
      ]
     },
     "execution_count": 33,
     "metadata": {},
     "output_type": "execute_result"
    }
   ],
   "source": [
    "sentence = 'This is a forbidden sentence.'\n",
    "forbidden_letters = 'xy'\n",
    "\n",
    "is_any_forbidden_letter(sentence, forbidden_letters)"
   ]
  },
  {
   "cell_type": "markdown",
   "metadata": {},
   "source": [
    "**Exercise 4:**\n",
    "\n",
    "Define a function named **only_uses_these_letters**\n",
    "\n",
    "It will take letters and a text.\n",
    "\n",
    "It will check if this text uses only these letters.\n",
    "\n",
    "It the text uses only these letters -> True\n",
    "\n",
    "bool function -> True, False"
   ]
  },
  {
   "cell_type": "code",
   "execution_count": 38,
   "metadata": {},
   "outputs": [],
   "source": [
    "def only_uses_these_letters(text, letters):\n",
    "    \n",
    "    for char in text:\n",
    "        # if the char in letters or not\n",
    "        # check if char is an alphabetical letter -> isalpha()\n",
    "        \n",
    "        if char.isalpha() and not char in letters:\n",
    "            return False\n",
    "    else:\n",
    "        return True\n",
    "    "
   ]
  },
  {
   "cell_type": "code",
   "execution_count": 39,
   "metadata": {},
   "outputs": [
    {
     "data": {
      "text/plain": [
       "True"
      ]
     },
     "execution_count": 39,
     "metadata": {},
     "output_type": "execute_result"
    }
   ],
   "source": [
    "sentence = 'check'\n",
    "letters = 'chek'\n",
    "\n",
    "only_uses_these_letters(sentence, letters)"
   ]
  },
  {
   "cell_type": "code",
   "execution_count": 40,
   "metadata": {},
   "outputs": [
    {
     "data": {
      "text/plain": [
       "False"
      ]
     },
     "execution_count": 40,
     "metadata": {},
     "output_type": "execute_result"
    }
   ],
   "source": [
    "sentence = 'check this'\n",
    "letters = 'chek'\n",
    "\n",
    "only_uses_these_letters(sentence, letters)"
   ]
  },
  {
   "cell_type": "markdown",
   "metadata": {},
   "source": [
    "**Exercise 5:**\n",
    "\n",
    "use the function E4, check for Lorem words using only 'ens' letters."
   ]
  },
  {
   "cell_type": "code",
   "execution_count": 41,
   "metadata": {},
   "outputs": [],
   "source": [
    "def only_uses_these_letters_lorem(letters):\n",
    "    \n",
    "    # read the file\n",
    "    file = open ('words.txt')\n",
    "    \n",
    "    for line in file:\n",
    "        \n",
    "        # split() -> \\n\n",
    "        word_list = line.split()\n",
    "\n",
    "        # word is the first element in list\n",
    "        word = word_list[0]\n",
    "        \n",
    "        # convert into lower case\n",
    "        word = word.lower()\n",
    "        \n",
    "        # TODO - check if the word only uses these letters\n",
    "        if only_uses_these_letters(word, letters):\n",
    "            print(word)\n",
    "    "
   ]
  },
  {
   "cell_type": "code",
   "execution_count": 42,
   "metadata": {},
   "outputs": [
    {
     "name": "stdout",
     "output_type": "stream",
     "text": [
      "sesse\n",
      "nesnes\n",
      "senesses\n"
     ]
    }
   ],
   "source": [
    "letters = 'ens'\n",
    "only_uses_these_letters_lorem(letters)"
   ]
  },
  {
   "cell_type": "markdown",
   "metadata": {},
   "source": [
    "**Exercise 6:**\n",
    "\n",
    "Define a function named **uses_all**.\n",
    "\n",
    "It will take a text and letters.\n",
    "\n",
    "If the text uses all the letter at least once, it will return True."
   ]
  },
  {
   "cell_type": "code",
   "execution_count": 45,
   "metadata": {},
   "outputs": [],
   "source": [
    "\n",
    "def uses_all(text, letters):\n",
    "    \n",
    "    it_uses_all = True\n",
    "    \n",
    "    for letter in letters:\n",
    "        # if letter is not text -> text is not using this letter\n",
    "        if not letter in text:\n",
    "            it_uses_all = False\n",
    "    \n",
    "    # loop finishes\n",
    "    return it_uses_all\n"
   ]
  },
  {
   "cell_type": "code",
   "execution_count": 46,
   "metadata": {},
   "outputs": [
    {
     "data": {
      "text/plain": [
       "True"
      ]
     },
     "execution_count": 46,
     "metadata": {},
     "output_type": "execute_result"
    }
   ],
   "source": [
    "letters = 'abd'\n",
    "\n",
    "text = 'This is a bold sentence.'\n",
    "\n",
    "uses_all(text, letters)"
   ]
  },
  {
   "cell_type": "code",
   "execution_count": 47,
   "metadata": {},
   "outputs": [
    {
     "data": {
      "text/plain": [
       "True"
      ]
     },
     "execution_count": 47,
     "metadata": {},
     "output_type": "execute_result"
    }
   ],
   "source": [
    "letters = 'abcd'\n",
    "\n",
    "text = 'This is a bold sentence.'\n",
    "\n",
    "uses_all(text, letters)"
   ]
  },
  {
   "cell_type": "code",
   "execution_count": 48,
   "metadata": {},
   "outputs": [
    {
     "data": {
      "text/plain": [
       "False"
      ]
     },
     "execution_count": 48,
     "metadata": {},
     "output_type": "execute_result"
    }
   ],
   "source": [
    "letters = 'abdf'\n",
    "\n",
    "text = 'This is a bold sentence.'\n",
    "\n",
    "uses_all(text, letters)"
   ]
  },
  {
   "cell_type": "markdown",
   "metadata": {},
   "source": [
    "**Exercise 7:**\n",
    "\n",
    "Use the function E6 and for Lorem letters check:\n",
    "\n",
    "The words using all the letters in 'aei'."
   ]
  },
  {
   "cell_type": "code",
   "execution_count": 49,
   "metadata": {},
   "outputs": [],
   "source": [
    "def uses_all_lorem(letters):\n",
    "    \n",
    "    # read the file\n",
    "    file = open('words.txt')\n",
    "    \n",
    "    for line in file:\n",
    "        \n",
    "        # split() -> \\n\n",
    "        word_list = line.split()\n",
    "\n",
    "        # word is the first element in list\n",
    "        word = word_list[0]\n",
    "        \n",
    "        # convert into lower case\n",
    "        word = word.lower()\n",
    "        \n",
    "        if uses_all(word, letters):\n",
    "            print(word)\n",
    "        \n",
    "    "
   ]
  },
  {
   "cell_type": "code",
   "execution_count": 50,
   "metadata": {},
   "outputs": [
    {
     "name": "stdout",
     "output_type": "stream",
     "text": [
      "feugiat\n",
      "penatibus\n",
      "parturient\n",
      "venenatis\n",
      "vitae\n",
      "aliquet\n",
      "sapien\n",
      "viverra\n",
      "vehicula\n",
      "habitasse\n"
     ]
    }
   ],
   "source": [
    "letters = 'aei'\n",
    "uses_all_lorem(letters)"
   ]
  },
  {
   "cell_type": "markdown",
   "metadata": {},
   "source": [
    "**Exercise 8:**\n",
    "\n",
    "Use funtions from:\n",
    "* E4\n",
    "* E6\n",
    "\n",
    "To find the Lorem words which uses only `fir` letters and use them all.\n",
    "\n",
    "The function name will be **only_uses_all**."
   ]
  },
  {
   "cell_type": "code",
   "execution_count": 51,
   "metadata": {},
   "outputs": [],
   "source": [
    "\n",
    "def only_uses_all(letters):\n",
    "    \n",
    "    # read the file\n",
    "    file = open('words.txt')\n",
    "    \n",
    "    for line in file:\n",
    "        \n",
    "        # split() -> \\n\n",
    "        word_list = line.split()\n",
    "\n",
    "        # word is the first element in list\n",
    "        word = word_list[0]\n",
    "        \n",
    "        # convert into lower case\n",
    "        word = word.lower()\n",
    "        \n",
    "        # TODO - check if the word uses only these letters and uses them all\n",
    "        if only_uses_these_letters(word, letters) and uses_all(word, letters):\n",
    "            print(word)\n",
    "    "
   ]
  },
  {
   "cell_type": "code",
   "execution_count": 52,
   "metadata": {},
   "outputs": [
    {
     "name": "stdout",
     "output_type": "stream",
     "text": [
      "frifirri\n"
     ]
    }
   ],
   "source": [
    "letters = 'fir'\n",
    "\n",
    "only_uses_all(letters)"
   ]
  },
  {
   "cell_type": "markdown",
   "metadata": {},
   "source": [
    "**Exercise 9:**\n",
    "\n",
    "**ordered_word**: if the letters in a word is in alphabetical order.\n",
    "\n",
    "Define a function named **is_ordered_word**.\n",
    "\n",
    "It will take a string parameter as text.\n",
    "\n",
    "It will return True if it is an ordered word.\n",
    "\n",
    "Ex: abc, agor, def"
   ]
  },
  {
   "cell_type": "code",
   "execution_count": 55,
   "metadata": {},
   "outputs": [],
   "source": [
    "def is_ordered_word(word):\n",
    "    \n",
    "    # previous letter is the first letter in word\n",
    "    prev = word[0]\n",
    "    \n",
    "    for letter in word:\n",
    "        \n",
    "        # check if prev is smaller\n",
    "        if letter < prev:\n",
    "            return False\n",
    "        \n",
    "        # reassign the previous as the current letter\n",
    "        prev = letter\n",
    "        \n",
    "    # return True -> because loop has completed\n",
    "    return True\n",
    "    "
   ]
  },
  {
   "cell_type": "code",
   "execution_count": 56,
   "metadata": {},
   "outputs": [
    {
     "data": {
      "text/plain": [
       "True"
      ]
     },
     "execution_count": 56,
     "metadata": {},
     "output_type": "execute_result"
    }
   ],
   "source": [
    "word = 'agor'\n",
    "\n",
    "is_ordered_word(word)"
   ]
  },
  {
   "cell_type": "code",
   "execution_count": 57,
   "metadata": {},
   "outputs": [
    {
     "data": {
      "text/plain": [
       "False"
      ]
     },
     "execution_count": 57,
     "metadata": {},
     "output_type": "execute_result"
    }
   ],
   "source": [
    "word = 'python'\n",
    "\n",
    "is_ordered_word(word)"
   ]
  },
  {
   "cell_type": "code",
   "execution_count": 58,
   "metadata": {},
   "outputs": [
    {
     "data": {
      "text/plain": [
       "True"
      ]
     },
     "execution_count": 58,
     "metadata": {},
     "output_type": "execute_result"
    }
   ],
   "source": [
    "word = 'hnty'\n",
    "\n",
    "is_ordered_word(word)"
   ]
  },
  {
   "cell_type": "markdown",
   "metadata": {},
   "source": [
    "**Exercise 10:**\n",
    "\n",
    "Use function in E9 to find out which Lorem words are ordered."
   ]
  },
  {
   "cell_type": "code",
   "execution_count": 60,
   "metadata": {},
   "outputs": [],
   "source": [
    "def is_ordered_word_lorem():\n",
    "    \n",
    "    # read the file\n",
    "    file = open('words.txt')\n",
    "    \n",
    "    for line in file:\n",
    "        \n",
    "        # split() -> \\n\n",
    "        word_list = line.split()\n",
    "\n",
    "        # word is the first element in list\n",
    "        word = word_list[0]\n",
    "        \n",
    "        # convert into lower case\n",
    "        word = word.lower()\n",
    "        \n",
    "        # check if this word is an ordered word\n",
    "        if is_ordered_word(word):\n",
    "            print(word)\n",
    "        \n",
    "    "
   ]
  },
  {
   "cell_type": "code",
   "execution_count": 61,
   "metadata": {},
   "outputs": [
    {
     "name": "stdout",
     "output_type": "stream",
     "text": [
      "in\n",
      "at\n",
      "in\n",
      "eu\n",
      "et\n",
      "dis\n",
      "ac\n",
      "ex\n",
      "a\n",
      "est\n"
     ]
    }
   ],
   "source": [
    "is_ordered_word_lorem()"
   ]
  },
  {
   "cell_type": "code",
   "execution_count": 62,
   "metadata": {},
   "outputs": [
    {
     "data": {
      "text/plain": [
       "True"
      ]
     },
     "execution_count": 62,
     "metadata": {},
     "output_type": "execute_result"
    }
   ],
   "source": [
    "word = 'Nam'\n",
    "\n",
    "is_ordered_word(word)"
   ]
  },
  {
   "cell_type": "code",
   "execution_count": 63,
   "metadata": {},
   "outputs": [
    {
     "data": {
      "text/plain": [
       "True"
      ]
     },
     "execution_count": 63,
     "metadata": {},
     "output_type": "execute_result"
    }
   ],
   "source": [
    "'N' < 'a'"
   ]
  },
  {
   "cell_type": "code",
   "execution_count": 66,
   "metadata": {},
   "outputs": [
    {
     "data": {
      "text/plain": [
       "True"
      ]
     },
     "execution_count": 66,
     "metadata": {},
     "output_type": "execute_result"
    }
   ],
   "source": [
    "'a' < 'z'"
   ]
  },
  {
   "cell_type": "code",
   "execution_count": null,
   "metadata": {},
   "outputs": [],
   "source": []
  },
  {
   "cell_type": "code",
   "execution_count": null,
   "metadata": {},
   "outputs": [],
   "source": []
  }
 ],
 "metadata": {
  "kernelspec": {
   "display_name": "Python 3",
   "language": "python",
   "name": "python3"
  },
  "language_info": {
   "codemirror_mode": {
    "name": "ipython",
    "version": 3
   },
   "file_extension": ".py",
   "mimetype": "text/x-python",
   "name": "python",
   "nbconvert_exporter": "python",
   "pygments_lexer": "ipython3",
   "version": "3.8.8"
  }
 },
 "nbformat": 4,
 "nbformat_minor": 4
}
